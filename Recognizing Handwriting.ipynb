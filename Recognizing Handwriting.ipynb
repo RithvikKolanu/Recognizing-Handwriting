{
 "cells": [
  {
   "cell_type": "code",
   "execution_count": 3,
   "metadata": {
    "collapsed": true
   },
   "outputs": [
    {
     "name": "stdout",
     "output_type": "stream",
     "text": [
      "Extracting MNIST-data\\train-images-idx3-ubyte.gz\n"
     ]
    },
    {
     "name": "stdout",
     "output_type": "stream",
     "text": [
      "Extracting MNIST-data\\train-labels-idx1-ubyte.gz\nExtracting MNIST-data\\t10k-images-idx3-ubyte.gz\nExtracting MNIST-data\\t10k-labels-idx1-ubyte.gz\n"
     ]
    },
    {
     "name": "stdout",
     "output_type": "stream",
     "text": [
      "INFO:tensorflow:Using default config.\n"
     ]
    },
    {
     "name": "stdout",
     "output_type": "stream",
     "text": [
      "INFO:tensorflow:Using config: {'_save_summary_steps': 100, '_train_distribute': None, '_evaluation_master': '', '_model_dir': '/tmp/mnist_convnet_model', '_tf_random_seed': None, '_log_step_count_steps': 100, '_cluster_spec': <tensorflow.python.training.server_lib.ClusterSpec object at 0x000001E2C9C775F8>, '_save_checkpoints_steps': None, '_global_id_in_cluster': 0, '_save_checkpoints_secs': 600, '_task_type': 'worker', '_device_fn': None, '_service': None, '_master': '', '_keep_checkpoint_max': 5, '_keep_checkpoint_every_n_hours': 10000, '_session_config': None, '_num_worker_replicas': 1, '_task_id': 0, '_is_chief': True, '_num_ps_replicas': 0}\n"
     ]
    },
    {
     "name": "stdout",
     "output_type": "stream",
     "text": [
      "INFO:tensorflow:Calling model_fn.\n"
     ]
    },
    {
     "name": "stdout",
     "output_type": "stream",
     "text": [
      "INFO:tensorflow:Done calling model_fn.\n"
     ]
    },
    {
     "name": "stdout",
     "output_type": "stream",
     "text": [
      "INFO:tensorflow:Create CheckpointSaverHook.\n"
     ]
    },
    {
     "name": "stdout",
     "output_type": "stream",
     "text": [
      "INFO:tensorflow:Graph was finalized.\n"
     ]
    },
    {
     "name": "stdout",
     "output_type": "stream",
     "text": [
      "INFO:tensorflow:Restoring parameters from /tmp/mnist_convnet_model\\model.ckpt-30989\n"
     ]
    },
    {
     "name": "stdout",
     "output_type": "stream",
     "text": [
      "INFO:tensorflow:Running local_init_op.\n"
     ]
    },
    {
     "name": "stdout",
     "output_type": "stream",
     "text": [
      "INFO:tensorflow:Done running local_init_op.\n"
     ]
    },
    {
     "name": "stdout",
     "output_type": "stream",
     "text": [
      "INFO:tensorflow:Saving checkpoints for 30989 into /tmp/mnist_convnet_model\\model.ckpt.\n"
     ]
    },
    {
     "name": "stdout",
     "output_type": "stream",
     "text": [
      "INFO:tensorflow:probabilities = [[0.00007311 0.00000016 0.00000398 0.0000136  0.00000013 0.9998658\n  0.00003569 0.00000002 0.00000687 0.00000069]\n [0.00012964 0.00005347 0.00004398 0.9388621  0.00000061 0.0159677\n  0.00000044 0.0000045  0.00612267 0.03881497]\n [0.00000041 0.00000194 0.00006845 0.00000036 0.0000255  0.00000976\n  0.99988043 0.00000001 0.00001309 0.00000002]\n [0.00001361 0.00000019 0.99972945 0.00023275 0.00000034 0.00000011\n  0.00000002 0.00000335 0.00001934 0.00000086]\n [0.01282308 0.00403647 0.18822867 0.08937486 0.00028661 0.01264495\n  0.00065588 0.39465806 0.26832035 0.028971  ]\n [0.00000314 0.00000129 0.04721895 0.19410183 0.         0.00000012\n  0.         0.7584139  0.00018421 0.00007657]\n [0.00000548 0.00015103 0.00065539 0.02022889 0.00018726 0.00004919\n  0.00010144 0.00001248 0.97660416 0.00200463]\n [0.00001839 0.00000617 0.00021119 0.00000078 0.5254746  0.00005489\n  0.47418106 0.00000054 0.00000458 0.00004784]\n [0.00000295 0.00000123 0.00004306 0.00132624 0.00013596 0.00022995\n  0.00000685 0.00000037 0.9926018  0.00565154]\n [0.00000023 0.00000095 0.00000041 0.00000827 0.00014186 0.00001055\n  0.         0.0002535  0.00004955 0.9995347 ]\n [0.09755074 0.00073546 0.002424   0.00036317 0.30153334 0.00306231\n  0.58983785 0.00072086 0.00324975 0.0005225 ]\n [0.9998072  0.00000017 0.00007158 0.00000028 0.00000025 0.00000402\n  0.00000252 0.00000029 0.00000212 0.00011166]\n [0.0000024  0.99802774 0.00035738 0.00055711 0.0001072  0.00003722\n  0.00017368 0.00003052 0.00067889 0.00002783]\n [0.00002288 0.993867   0.00016897 0.00030668 0.00194432 0.00003495\n  0.00017447 0.00305625 0.00023269 0.00019176]\n [0.00005806 0.00016396 0.00002723 0.00001093 0.00328497 0.00009661\n  0.9938693  0.00000635 0.002481   0.00000145]\n [0.0000231  0.9990903  0.00020731 0.00003973 0.00004272 0.00000587\n  0.00006923 0.00033865 0.00017714 0.00000596]\n [0.00000008 0.00000007 0.00000707 0.9978992  0.         0.00001878\n  0.         0.00000004 0.0020747  0.00000014]\n [0.00000008 0.00000007 0.00003085 0.0001709  0.00000001 0.00000001\n  0.         0.9997508  0.00000023 0.00004706]\n [0.00001823 0.00000022 0.00016087 0.00001546 0.00000874 0.00004063\n  0.00008273 0.0000014  0.99963    0.00004172]\n [0.00000172 0.00000018 0.00004627 0.00000048 0.9993887  0.00002034\n  0.00007401 0.00000366 0.00013874 0.00032582]\n [0.99656445 0.00013177 0.00137411 0.00002104 0.00030585 0.00007486\n  0.00089822 0.00019084 0.00040463 0.00003438]\n [0.00371896 0.00010173 0.00877328 0.26055372 0.6875952  0.02909681\n  0.00412296 0.00087744 0.0040274  0.00113253]\n [0.00000013 0.00000009 0.9999733  0.00001746 0.00000048 0.\n  0.00000001 0.00000772 0.00000007 0.00000073]\n [0.0000005  0.9996835  0.00006142 0.00002789 0.00003924 0.00001124\n  0.00001591 0.00000157 0.00015672 0.0000022 ]\n [0.65052176 0.00002565 0.00081987 0.00002096 0.00001892 0.33593673\n  0.00570182 0.00000685 0.0068028  0.00014473]\n [0.00000005 0.00000003 0.00016721 0.00004623 0.00000037 0.00000023\n  0.         0.99974924 0.00000014 0.00003644]\n [0.97691196 0.00000131 0.00001683 0.00009435 0.00000126 0.00680021\n  0.01598754 0.00010784 0.00004573 0.00003301]\n [0.00004467 0.00000192 0.0000003  0.00321029 0.00000116 0.99463814\n  0.00000229 0.00039107 0.00123801 0.00047222]\n [0.0000068  0.00000188 0.00001408 0.00001645 0.00000117 0.00213266\n  0.00050862 0.00000004 0.99731725 0.00000102]\n [0.0000169  0.997021   0.00024864 0.00003475 0.00001786 0.00004421\n  0.00064904 0.00002875 0.00193549 0.00000331]\n [0.00004637 0.00736881 0.00033975 0.9820869  0.000045   0.00251764\n  0.00000326 0.00013129 0.00130145 0.0061595 ]\n [0.00000028 0.00000072 0.00003992 0.00013099 0.00000024 0.00000022\n  0.         0.9959021  0.00000373 0.00392178]\n [0.00000006 0.         0.00000009 0.00000874 0.00002023 0.00000022\n  0.         0.00180752 0.00000408 0.9981591 ]\n [0.00000006 0.         0.00000165 0.         0.9999784  0.00000003\n  0.00000138 0.00000108 0.00000043 0.00001694]\n [0.00000006 0.00000157 0.00004355 0.0001707  0.00000001 0.00000001\n  0.         0.9997749  0.00000199 0.00000716]\n [0.         0.         0.00000008 0.00000004 0.99994373 0.00000192\n  0.00000915 0.00000246 0.00000503 0.00003755]\n [0.9997327  0.00000275 0.00002281 0.00000069 0.00000025 0.00011106\n  0.0000517  0.00000743 0.00002416 0.00004652]\n [0.00134439 0.00003639 0.00051789 0.02881927 0.00092801 0.8673356\n  0.00054763 0.0003304  0.01614383 0.08399649]\n [0.00006358 0.000076   0.00006886 0.0000103  0.00007934 0.00099319\n  0.99796045 0.00000012 0.00074761 0.00000061]\n [0.00032273 0.00000761 0.00071663 0.0000899  0.00001859 0.00224215\n  0.00002371 0.00072459 0.99548846 0.00036563]\n [0.00000069 0.00002889 0.00001427 0.99810505 0.00000012 0.0011031\n  0.         0.00043852 0.00022181 0.00008741]\n [0.00000294 0.00000001 0.00007829 0.00001934 0.9982309  0.0002512\n  0.0000231  0.0000354  0.00001718 0.00134188]\n [0.00000013 0.00000017 0.00001394 0.00001877 0.00000027 0.00014977\n  0.00000124 0.00000154 0.99980265 0.00001154]\n [0.00000105 0.00018353 0.00130705 0.99761367 0.00000008 0.0005683\n  0.00000001 0.00000157 0.00030986 0.00001474]\n [0.00000001 0.00000051 0.00001265 0.00000925 0.00000012 0.\n  0.         0.99995196 0.0000183  0.0000072 ]\n [0.0000075  0.9993112  0.0001255  0.00000861 0.00006675 0.00000535\n  0.00001225 0.00010126 0.00035249 0.00000903]\n [0.9955843  0.00000028 0.00104034 0.00000055 0.00014118 0.00000111\n  0.00321672 0.00000061 0.00000358 0.00001144]\n [0.0000008  0.00000003 0.00001245 0.         0.00000323 0.00000107\n  0.9999821  0.         0.00000027 0.00000003]\n [0.00000003 0.00000001 0.00000128 0.         0.00000355 0.00000006\n  0.9999926  0.         0.00000245 0.        ]\n [0.8540105  0.00036068 0.00308793 0.00079886 0.0002084  0.09137786\n  0.03360952 0.000035   0.01333056 0.00318057]\n [0.0000073  0.00063445 0.9829821  0.00098407 0.01078645 0.00005197\n  0.00331733 0.00000016 0.00123119 0.00000494]\n [0.0000003  0.00000043 0.00000001 0.00000316 0.00000079 0.99934536\n  0.00064369 0.         0.00000556 0.00000068]\n [0.0000017  0.0000001  0.00000418 0.00000025 0.00005214 0.00004793\n  0.99942136 0.         0.00047223 0.00000006]\n [0.9999814  0.         0.0000007  0.00000005 0.         0.00000024\n  0.00001682 0.00000071 0.00000006 0.00000014]\n [0.00000067 0.00000008 0.9995073  0.0004845  0.00000045 0.00000011\n  0.00000086 0.00000136 0.0000048  0.00000005]\n [0.00001645 0.9963098  0.00028611 0.00042086 0.00029074 0.00001215\n  0.00013335 0.00083178 0.00151814 0.00018058]\n [0.00013025 0.00000593 0.00039569 0.00000324 0.00103697 0.00080987\n  0.9975193  0.00000594 0.00008918 0.00000355]\n [0.00000124 0.00000173 0.00003858 0.00021367 0.00039476 0.00000143\n  0.00000003 0.00133665 0.00080765 0.99720424]\n [0.00002848 0.01762342 0.17118841 0.27394024 0.00004133 0.00019474\n  0.0000153  0.01698409 0.5194238  0.00056024]\n [0.00000662 0.00000003 0.00000856 0.00017388 0.00043583 0.00001904\n  0.00000039 0.00054606 0.0000279  0.99878174]\n [0.00000008 0.00000004 0.00000706 0.00000774 0.00000007 0.00000002\n  0.         0.9999243  0.00000023 0.00006038]\n [0.00000308 0.00052558 0.8263262  0.1705227  0.00013343 0.00004982\n  0.00000148 0.00001021 0.00186761 0.00055985]\n [0.00000026 0.         0.00000102 0.00001055 0.         0.00000004\n  0.         0.9999846  0.00000001 0.00000341]\n [0.         0.00000014 0.99996054 0.00000329 0.         0.\n  0.         0.         0.00003604 0.        ]\n [0.00000203 0.00000011 0.00006082 0.00000004 0.00139716 0.0000027\n  0.99853647 0.         0.00000071 0.        ]\n [0.00000112 0.00000136 0.00002415 0.0000055  0.00001961 0.00006356\n  0.99986327 0.         0.00002148 0.00000001]\n [0.00000003 0.00000001 0.00000001 0.00002392 0.00000028 0.00000251\n  0.         0.99927264 0.00000047 0.00070004]\n [0.00000124 0.00005227 0.00008536 0.00000162 0.9993567  0.00000213\n  0.00035979 0.00006816 0.00005852 0.00001426]\n [0.00000408 0.00000945 0.00054118 0.00056151 0.00000707 0.00000102\n  0.00000001 0.9988066  0.00001079 0.00005824]\n [0.00000225 0.00003373 0.00621081 0.00341119 0.00000031 0.00001787\n  0.00000043 0.00000006 0.99032146 0.00000188]\n [0.00000084 0.00000435 0.00000064 0.00406921 0.00000009 0.99548644\n  0.00000483 0.         0.00043092 0.00000257]\n [0.00044822 0.995723   0.00066573 0.00002241 0.00074759 0.0000022\n  0.00001987 0.00043967 0.00176229 0.00016896]\n [0.00000001 0.00002374 0.00000918 0.9998155  0.         0.00014753\n  0.         0.00000017 0.00000082 0.00000308]\n [0.00316622 0.         0.00682687 0.00001074 0.00003157 0.00255341\n  0.01918046 0.00000465 0.9681806  0.00004548]\n [0.0000057  0.         0.00000627 0.         0.00023634 0.00000018\n  0.99974996 0.00000001 0.00000081 0.00000072]\n [0.00003585 0.00843849 0.13904741 0.05844932 0.00002237 0.00016214\n  0.0027005  0.00000034 0.7911365  0.00000706]\n [0.00000346 0.00000015 0.00000113 0.0058031  0.00000008 0.99197054\n  0.00000023 0.00000075 0.00012613 0.00209432]\n [0.77782446 0.00072543 0.15691648 0.04420283 0.00037965 0.01639356\n  0.00045916 0.00073734 0.00037833 0.00198274]\n [0.00002619 0.9939421  0.00000479 0.00013988 0.00004966 0.00001012\n  0.00000843 0.00448765 0.00071931 0.00061186]\n [0.0003598  0.00011088 0.00007788 0.00001121 0.00004931 0.00320309\n  0.9944507  0.00000003 0.00173344 0.00000375]\n [0.00021411 0.00003542 0.0000283  0.00374966 0.0000401  0.9926986\n  0.0027923  0.00000293 0.00022774 0.00021093]\n [0.00013842 0.99720216 0.00030948 0.00001921 0.00041198 0.00000768\n  0.00012761 0.00040805 0.00122359 0.00015186]\n [0.00001658 0.0014128  0.9773678  0.00963113 0.00000062 0.00000631\n  0.00007625 0.00000127 0.01148714 0.00000014]\n [0.00000532 0.00000001 0.00000268 0.00001749 0.00000002 0.00002175\n  0.00000109 0.00000002 0.9999503  0.0000013 ]\n [0.00000323 0.00000005 0.00000184 0.00000007 0.00000885 0.00000948\n  0.9999548  0.         0.00002167 0.00000001]\n [0.99997973 0.00000001 0.00000265 0.00000001 0.00000001 0.00000406\n  0.00000717 0.00000101 0.00000001 0.00000536]\n [0.00000501 0.00000031 0.00000504 0.00000009 0.00022794 0.00001496\n  0.9997378  0.00000002 0.00000862 0.00000027]\n [0.00006779 0.00023168 0.00036995 0.00199669 0.01981989 0.00073506\n  0.00001464 0.00252163 0.02787083 0.94637185]\n [0.00001361 0.00125254 0.00020585 0.02521976 0.7268183  0.00387937\n  0.00009747 0.00434982 0.00478433 0.23337884]\n [0.00000006 0.00006832 0.999912   0.00000602 0.         0.00000001\n  0.         0.00000075 0.0000128  0.        ]\n [0.00006177 0.00146777 0.00004137 0.00037506 0.00002167 0.00009309\n  0.00000681 0.00002612 0.9971456  0.00076071]\n [0.00077576 0.7819751  0.15795133 0.00043074 0.00001696 0.000573\n  0.04629326 0.00000031 0.01198349 0.00000014]\n [0.00005594 0.00008067 0.00003393 0.0000086  0.00001105 0.9977964\n  0.00034293 0.00000035 0.00076385 0.00090624]\n [0.         0.00000003 0.         0.00000094 0.9999198  0.00000534\n  0.00000002 0.0000398  0.00000454 0.0000296 ]\n [0.00000254 0.00000391 0.00000141 0.00036568 0.00000001 0.99941266\n  0.00001193 0.         0.00018838 0.00001345]\n [0.00006868 0.99885666 0.0003993  0.0000386  0.00007147 0.00001527\n  0.00014151 0.00031188 0.00008071 0.00001612]\n [0.00005663 0.98475605 0.00028922 0.00665869 0.00125465 0.00025457\n  0.00018544 0.00122951 0.00184011 0.00347492]\n [0.00003325 0.00008402 0.00033492 0.00000096 0.99917644 0.0000107\n  0.00011273 0.00019941 0.00002951 0.00001812]\n [0.9964443  0.00000623 0.0002482  0.00014261 0.00000155 0.00222287\n  0.00007848 0.00076398 0.00006417 0.00002768]\n [0.00000003 0.00000001 0.00000056 0.         0.00000467 0.00000152\n  0.99999154 0.         0.00000166 0.        ]]\n"
     ]
    },
    {
     "name": "stdout",
     "output_type": "stream",
     "text": [
      "INFO:tensorflow:loss = 0.10592115, step = 30990\n"
     ]
    },
    {
     "name": "stdout",
     "output_type": "stream",
     "text": [
      "INFO:tensorflow:Saving checkpoints for 30999 into /tmp/mnist_convnet_model\\model.ckpt.\n"
     ]
    },
    {
     "name": "stdout",
     "output_type": "stream",
     "text": [
      "INFO:tensorflow:Loss for final step: 0.052166242.\n"
     ]
    },
    {
     "name": "stdout",
     "output_type": "stream",
     "text": [
      "INFO:tensorflow:Calling model_fn.\n"
     ]
    },
    {
     "name": "stdout",
     "output_type": "stream",
     "text": [
      "INFO:tensorflow:Done calling model_fn.\n"
     ]
    },
    {
     "name": "stdout",
     "output_type": "stream",
     "text": [
      "INFO:tensorflow:Starting evaluation at 2019-03-24-00:41:25\n"
     ]
    },
    {
     "name": "stdout",
     "output_type": "stream",
     "text": [
      "INFO:tensorflow:Graph was finalized.\n"
     ]
    },
    {
     "name": "stdout",
     "output_type": "stream",
     "text": [
      "INFO:tensorflow:Restoring parameters from /tmp/mnist_convnet_model\\model.ckpt-30999\n"
     ]
    },
    {
     "name": "stdout",
     "output_type": "stream",
     "text": [
      "INFO:tensorflow:Running local_init_op.\n"
     ]
    },
    {
     "name": "stdout",
     "output_type": "stream",
     "text": [
      "INFO:tensorflow:Done running local_init_op.\n"
     ]
    },
    {
     "name": "stdout",
     "output_type": "stream",
     "text": [
      "INFO:tensorflow:Finished evaluation at 2019-03-24-00:41:33\n"
     ]
    },
    {
     "name": "stdout",
     "output_type": "stream",
     "text": [
      "INFO:tensorflow:Saving dict for global step 30999: accuracy = 0.9778, global_step = 30999, loss = 0.072215565\n"
     ]
    },
    {
     "name": "stdout",
     "output_type": "stream",
     "text": [
      "INFO:tensorflow:Saving 'checkpoint_path' summary for global step 30999: /tmp/mnist_convnet_model\\model.ckpt-30999\n"
     ]
    },
    {
     "name": "stdout",
     "output_type": "stream",
     "text": [
      "{'global_step': 30999, 'accuracy': 0.9778, 'loss': 0.072215565}\nINFO:tensorflow:Calling model_fn.\n"
     ]
    },
    {
     "name": "stdout",
     "output_type": "stream",
     "text": [
      "INFO:tensorflow:Done calling model_fn.\n"
     ]
    },
    {
     "name": "stdout",
     "output_type": "stream",
     "text": [
      "INFO:tensorflow:Graph was finalized.\n"
     ]
    },
    {
     "name": "stdout",
     "output_type": "stream",
     "text": [
      "INFO:tensorflow:Restoring parameters from /tmp/mnist_convnet_model\\model.ckpt-30999\n"
     ]
    },
    {
     "name": "stdout",
     "output_type": "stream",
     "text": [
      "INFO:tensorflow:Running local_init_op.\n"
     ]
    },
    {
     "name": "stdout",
     "output_type": "stream",
     "text": [
      "INFO:tensorflow:Done running local_init_op.\n"
     ]
    },
    {
     "name": "stdout",
     "output_type": "stream",
     "text": [
      "2599\nThe prediction is:  1\nExtracting MNIST-data\\train-images-idx3-ubyte.gz\n"
     ]
    },
    {
     "name": "stdout",
     "output_type": "stream",
     "text": [
      "Extracting MNIST-data\\train-labels-idx1-ubyte.gz\nExtracting MNIST-data\\t10k-images-idx3-ubyte.gz\nExtracting MNIST-data\\t10k-labels-idx1-ubyte.gz\n"
     ]
    },
    {
     "data": {
      "image/png": "[encoded data removed]",
      "text/plain": [
       "<Figure size 432x288 with 1 Axes>"
      ]
     },
     "metadata": {},
     "output_type": "display_data"
    },
    {
     "ename": "SystemExit",
     "evalue": "",
     "traceback": [
      "An exception has occurred, use %tb to see the full traceback.\n",
      "\u001b[0;31mSystemExit\u001b[0m\n"
     ],
     "output_type": "error"
    },
    {
     "ename": "TypeError",
     "evalue": "'level' is an invalid keyword argument for this function",
     "traceback": [
      "\u001b[0;31m---------------------------------------------------------------------------\u001b[0m",
      "\u001b[0;31mSystemExit\u001b[0m                                Traceback (most recent call last)",
      "\u001b[0;32mC:\\Users\\rithv\\Documents\\Homework\\PersonalProject\\venv\\lib\\site-packages\\IPython\\core\\interactiveshell.py\u001b[0m in \u001b[0;36mrun_code\u001b[0;34m(self, code_obj, result)\u001b[0m\n\u001b[1;32m   2868\u001b[0m                 \u001b[0;31m#rprint('Running code', repr(code_obj)) # dbg\u001b[0m\u001b[0;34m\u001b[0m\u001b[0;34m\u001b[0m\u001b[0m\n\u001b[0;32m-> 2869\u001b[0;31m                 \u001b[0mexec\u001b[0m\u001b[0;34m(\u001b[0m\u001b[0mcode_obj\u001b[0m\u001b[0;34m,\u001b[0m \u001b[0mself\u001b[0m\u001b[0;34m.\u001b[0m\u001b[0muser_global_ns\u001b[0m\u001b[0;34m,\u001b[0m \u001b[0mself\u001b[0m\u001b[0;34m.\u001b[0m\u001b[0muser_ns\u001b[0m\u001b[0;34m)\u001b[0m\u001b[0;34m\u001b[0m\u001b[0m\n\u001b[0m\u001b[1;32m   2870\u001b[0m             \u001b[0;32mfinally\u001b[0m\u001b[0;34m:\u001b[0m\u001b[0;34m\u001b[0m\u001b[0m\n",
      "\u001b[0;32m<ipython-input-3-35f09d5b9224>\u001b[0m in \u001b[0;36m<module>\u001b[0;34m()\u001b[0m\n\u001b[1;32m    124\u001b[0m \u001b[0;32mif\u001b[0m \u001b[0m__name__\u001b[0m \u001b[0;34m==\u001b[0m \u001b[0;34m\"__main__\"\u001b[0m\u001b[0;34m:\u001b[0m\u001b[0;34m\u001b[0m\u001b[0m\n\u001b[0;32m--> 125\u001b[0;31m     \u001b[0mtf\u001b[0m\u001b[0;34m.\u001b[0m\u001b[0mapp\u001b[0m\u001b[0;34m.\u001b[0m\u001b[0mrun\u001b[0m\u001b[0;34m(\u001b[0m\u001b[0;34m)\u001b[0m\u001b[0;34m\u001b[0m\u001b[0m\n\u001b[0m",
      "\u001b[0;32mC:\\Users\\rithv\\Documents\\Homework\\PersonalProject\\venv\\lib\\site-packages\\tensorflow\\python\\platform\\app.py\u001b[0m in \u001b[0;36mrun\u001b[0;34m(main, argv)\u001b[0m\n\u001b[1;32m    124\u001b[0m   \u001b[0;31m# to the final program.\u001b[0m\u001b[0;34m\u001b[0m\u001b[0;34m\u001b[0m\u001b[0m\n\u001b[0;32m--> 125\u001b[0;31m   \u001b[0m_sys\u001b[0m\u001b[0;34m.\u001b[0m\u001b[0mexit\u001b[0m\u001b[0;34m(\u001b[0m\u001b[0mmain\u001b[0m\u001b[0;34m(\u001b[0m\u001b[0margv\u001b[0m\u001b[0;34m)\u001b[0m\u001b[0;34m)\u001b[0m\u001b[0;34m\u001b[0m\u001b[0m\n\u001b[0m\u001b[1;32m    126\u001b[0m \u001b[0;34m\u001b[0m\u001b[0m\n",
      "\u001b[0;31mSystemExit\u001b[0m: ",
      "\nDuring handling of the above exception, another exception occurred:\n",
      "\u001b[0;31mTypeError\u001b[0m                                 Traceback (most recent call last)",
      "\u001b[0;32mC:\\Users\\rithv\\Documents\\Homework\\PersonalProject\\venv\\lib\\site-packages\\IPython\\core\\interactiveshell.py\u001b[0m in \u001b[0;36mrun_code\u001b[0;34m(self, code_obj, result)\u001b[0m\n\u001b[1;32m   2875\u001b[0m                 \u001b[0mresult\u001b[0m\u001b[0;34m.\u001b[0m\u001b[0merror_in_exec\u001b[0m \u001b[0;34m=\u001b[0m \u001b[0me\u001b[0m\u001b[0;34m\u001b[0m\u001b[0m\n\u001b[1;32m   2876\u001b[0m             \u001b[0mself\u001b[0m\u001b[0;34m.\u001b[0m\u001b[0mshowtraceback\u001b[0m\u001b[0;34m(\u001b[0m\u001b[0mexception_only\u001b[0m\u001b[0;34m=\u001b[0m\u001b[0;32mTrue\u001b[0m\u001b[0;34m)\u001b[0m\u001b[0;34m\u001b[0m\u001b[0m\n\u001b[0;32m-> 2877\u001b[0;31m             \u001b[0mwarn\u001b[0m\u001b[0;34m(\u001b[0m\u001b[0;34m\"To exit: use 'exit', 'quit', or Ctrl-D.\"\u001b[0m\u001b[0;34m,\u001b[0m \u001b[0mlevel\u001b[0m\u001b[0;34m=\u001b[0m\u001b[0;36m1\u001b[0m\u001b[0;34m)\u001b[0m\u001b[0;34m\u001b[0m\u001b[0m\n\u001b[0m\u001b[1;32m   2878\u001b[0m         \u001b[0;32mexcept\u001b[0m \u001b[0mself\u001b[0m\u001b[0;34m.\u001b[0m\u001b[0mcustom_exceptions\u001b[0m\u001b[0;34m:\u001b[0m\u001b[0;34m\u001b[0m\u001b[0m\n\u001b[1;32m   2879\u001b[0m             \u001b[0metype\u001b[0m\u001b[0;34m,\u001b[0m \u001b[0mvalue\u001b[0m\u001b[0;34m,\u001b[0m \u001b[0mtb\u001b[0m \u001b[0;34m=\u001b[0m \u001b[0msys\u001b[0m\u001b[0;34m.\u001b[0m\u001b[0mexc_info\u001b[0m\u001b[0;34m(\u001b[0m\u001b[0;34m)\u001b[0m\u001b[0;34m\u001b[0m\u001b[0m\n",
      "\u001b[0;31mTypeError\u001b[0m: 'level' is an invalid keyword argument for this function"
     ],
     "output_type": "error"
    }
   ],
   "source": [
    "#imports and startup\n",
    "from __future__ import absolute_import\n",
    "from __future__ import division\n",
    "from __future__ import print_function\n",
    "import random\n",
    "\n",
    "import numpy as np\n",
    "import tensorflow as tf\n",
    "import matplotlib.pyplot as plt\n",
    "tf.logging.set_verbosity(tf.logging.INFO)\n",
    "\n",
    "for x in range (1):\n",
    "    num_number = random.randint(1, 5000)\n",
    "\n",
    "\n",
    "def cnn_model_fn(features, labels, mode):\n",
    "    input_layer=tf.reshape(features[\"x\"], [-1, 28, 28, 1])\n",
    "\n",
    "    conv1=tf.layers.conv2d(\n",
    "        inputs=input_layer,\n",
    "        filters=32,\n",
    "        kernel_size=[5, 5],\n",
    "        padding=\"same\",\n",
    "        activation=tf.nn.relu\n",
    "    )\n",
    "\n",
    "    pool1=tf.layers.max_pooling2d(inputs=conv1, pool_size=[2, 2], strides=2)\n",
    "\n",
    "    conv2=tf.layers.conv2d(\n",
    "        inputs=pool1,\n",
    "        filters=64,\n",
    "        kernel_size=[5, 5],\n",
    "        padding=\"same\",\n",
    "        activation=tf.nn.relu\n",
    "    )\n",
    "    pool2=tf.layers.max_pooling2d(inputs=conv2, pool_size=[2, 2], strides=2)\n",
    "    pool2_flat=tf.reshape(pool2, [-1, 7*7*64])\n",
    "\n",
    "    dense=tf.layers.dense(inputs=pool2_flat, units=1024, activation=tf.nn.relu)\n",
    "\n",
    "    dropout=tf.layers.dropout(\n",
    "        inputs=dense, rate=0.4, training=mode == tf.estimator.ModeKeys.TRAIN\n",
    "    )\n",
    "    logits=tf.layers.dense(inputs=dropout, units=10)\n",
    "\n",
    "    tf.argmax(input=logits, axis=1)\n",
    "    tf.nn.softmax(logits, name=\"softmax_tensor\")\n",
    "    predictions = {\n",
    "        \"classes\": tf.argmax(input=logits, axis=1),\n",
    "        \"probabilities\": tf.nn.softmax(logits, name=\"softmax_tensor\")\n",
    "    }\n",
    "    if mode == tf.estimator.ModeKeys.PREDICT:\n",
    "        return tf.estimator.EstimatorSpec(mode=mode, predictions=predictions)\n",
    "    loss=tf.losses.sparse_softmax_cross_entropy(labels=labels, logits=logits)\n",
    "    if mode == tf.estimator.ModeKeys.TRAIN:\n",
    "        optimizer=tf.train.GradientDescentOptimizer(learning_rate=0.001)\n",
    "        train_op=optimizer.minimize(\n",
    "            loss=loss,\n",
    "            global_step=tf.train.get_global_step()\n",
    "        )\n",
    "        return tf.estimator.EstimatorSpec(mode=mode, loss=loss, train_op=train_op)\n",
    "    eval_metric_ops = {\n",
    "        \"accuracy\": tf.metrics.accuracy(\n",
    "            labels=labels, predictions=predictions[\"classes\"])}\n",
    "    return tf.estimator.EstimatorSpec(\n",
    "        mode=mode, loss=loss, eval_metric_ops=eval_metric_ops)\n",
    "\n",
    "\n",
    "\n",
    "\n",
    "\n",
    "def imageshow():\n",
    "    mnist = tf.contrib.learn.datasets.load_dataset(\"mnist\")\n",
    "    first_image = mnist.test.images[num_number]\n",
    "    first_image = np.array(first_image, dtype='float')\n",
    "    pixels = first_image.reshape((28, 28))\n",
    "    plt.imshow(pixels, cmap='gray')\n",
    "    plt.show()\n",
    "\n",
    "\n",
    "def main(unused_argv):\n",
    "    mnist=tf.contrib.learn.datasets.load_dataset(\"mnist\")\n",
    "    #importing MNIST images\n",
    "    train_data=mnist.train.images\n",
    "    train_labels=np.asarray(mnist.train.labels, dtype=np.int32)\n",
    "    eval_data=mnist.test.images\n",
    "    eval_labels=np.asarray(mnist.test.labels, dtype=np.int32)\n",
    "\n",
    "    mnist_classifier=tf.estimator.Estimator(\n",
    "        model_fn=cnn_model_fn, model_dir=\"/tmp/mnist_convnet_model\"\n",
    "    )\n",
    "\n",
    "    tensors_to_log={\"probabilities\": \"softmax_tensor\"}\n",
    "    logging_hook=tf.train.LoggingTensorHook(tensors=tensors_to_log, every_n_iter=50)\n",
    "\n",
    "    train_input_fn=tf.estimator.inputs.numpy_input_fn(\n",
    "        x={\"x\": train_data},\n",
    "        y=train_labels,\n",
    "        batch_size=100,\n",
    "        num_epochs=None,\n",
    "        shuffle=True\n",
    "    )\n",
    "    mnist_classifier.train(\n",
    "        input_fn=train_input_fn,\n",
    "        steps=10,\n",
    "        hooks=[logging_hook]\n",
    "    )\n",
    "    eval_input_fn=tf.estimator.inputs.numpy_input_fn(\n",
    "        x={\"x\": eval_data},\n",
    "        y=eval_labels,\n",
    "        num_epochs=1,\n",
    "        shuffle=False\n",
    "    )\n",
    "    eval_results=mnist_classifier.evaluate(input_fn=eval_input_fn)\n",
    "    print(eval_results)\n",
    "    pred_input_fn = tf.estimator.inputs.numpy_input_fn(x={'x': eval_data}, shuffle=False)\n",
    "    predictor = list(mnist_classifier.predict(pred_input_fn))\n",
    "    predictions = predictor[num_number]['classes']\n",
    "    print(num_number)\n",
    "    print(\"The prediction is: \", predictions)\n",
    "    imageshow()\n",
    "\n",
    "\n",
    "if __name__ == \"__main__\":\n",
    "    tf.app.run()\n"
   ]
  },
  {
   "cell_type": "code",
   "execution_count": 4,
   "metadata": {},
   "outputs": [],
   "source": []
  },
  {
   "cell_type": "code",
   "execution_count": null,
   "metadata": {},
   "outputs": [],
   "source": []
  }
 ],
 "metadata": {
  "kernelspec": {
   "display_name": "Python 2",
   "language": "python",
   "name": "python2"
  },
  "language_info": {
   "codemirror_mode": {
    "name": "ipython",
    "version": 2
   },
   "file_extension": ".py",
   "mimetype": "text/x-python",
   "name": "python",
   "nbconvert_exporter": "python",
   "pygments_lexer": "ipython2",
   "version": "2.7.6"
  }
 },
 "nbformat": 4,
 "nbformat_minor": 0
}
